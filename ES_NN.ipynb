{
  "cells": [
    {
      "metadata": {
        "trusted": true
      },
      "cell_type": "code",
      "source": "import numpy as np\nfrom numba import jit\nfrom timeit import default_timer as timer",
      "execution_count": 1,
      "outputs": []
    },
    {
      "metadata": {
        "trusted": true
      },
      "cell_type": "code",
      "source": "IL = 1 #input layer nodes\nHL1 = 10 #hidden layer nodes\nHL2 = 10 #hidden layer nodes\nOL = 1 #output layer nodes\nw1 = np.random.randn(HL1,IL) #weight matrix W1\nb1 = np.random.randn(HL1) #bias b1\nw2 = np.random.randn(HL2,HL1) #weight matrix W2\nb2 = np.random.randn(HL2) #bias b2\nw3 = np.random.randn(OL,HL2)  #weight matrix W3\n\n#Number of elements in weight matrices\nNumWeights1 = len(w1.flatten())\nNumWeights2 = len(w2.flatten())\nNumWeights3 = len(w3.flatten())",
      "execution_count": 2,
      "outputs": []
    },
    {
      "metadata": {
        "trusted": true
      },
      "cell_type": "code",
      "source": "s = np.random.randn(IL,10000) #input data \nx = 2*s**2 + 5 #output data",
      "execution_count": 3,
      "outputs": []
    },
    {
      "metadata": {
        "trusted": true
      },
      "cell_type": "code",
      "source": "#forward propagation\n@jit\ndef predict(s,w1,w2,w3,b1,b2):\n    h1 = np.dot(w1, s) + b1 #input to hidden layer 1        \n    h1 = np.where(h1 < 0, h1, 0) #relu                      \n    h2 = np.dot(w2, h1) + b2 #input to hidden layer 2          \n    h2 = np.where(h2 < 0, h2, 0) #relu          \n    out = np.dot(w3, h2) #hidden layer to output\n    #out = 1.0 / (1.0 + np.exp(-out)) #sigmoid if needed\n    return out",
      "execution_count": 4,
      "outputs": []
    },
    {
      "metadata": {
        "trusted": true
      },
      "cell_type": "code",
      "source": "#reward function\n@jit\ndef f(out): return np.linalg.norm(x)**2/np.linalg.norm(out-x)**2",
      "execution_count": 5,
      "outputs": []
    },
    {
      "metadata": {
        "trusted": true
      },
      "cell_type": "code",
      "source": "npop = 100    # population size\nsigma = 0.01    # noise standard deviation\nalpha = 0.0001  # learning rate\n\n\n@jit\ndef ES_DL():\n    w = np.random.randn(NumWeights1 + NumWeights2 + NumWeights3 + HL1 + HL2)\n    for i in range(5000):\n        N = np.random.randn(npop, NumWeights1 + NumWeights2 + NumWeights3 + HL1 + HL2) #initiate population\n        R = np.zeros(npop) #reward\n        for j in range(npop):\n            w_trial = w + sigma*N[j]\n            \n            #Reshape weight and biases\n            w1_trial = w_trial [:NumWeights1].reshape(w1.shape)\n            w2_trial = w_trial [NumWeights1:NumWeights1+NumWeights2].reshape(w2.shape)\n            w3_trial = w_trial [NumWeights1+NumWeights2: NumWeights1 + NumWeights2 + NumWeights3].reshape(w3.shape)\n            b1_trial = w_trial [NumWeights1 + NumWeights2 + NumWeights3 : NumWeights1 + NumWeights2 + NumWeights3 + HL1].reshape((HL1,1))\n            b2_trial = w_trial [NumWeights1 + NumWeights2 + NumWeights3 + HL1:].reshape((HL2,1))\n            \n            #Compute output\n            out = predict(s,w1_trial,w2_trial,w3_trial,b1_trial,b2_trial)\n            \n            #Observe reward score\n            R[j] = f(out)\n        \n        #Reward Standardization\n        A = (R - np.mean(R)) / np.std(R)\n        \n        #Update\n        w = w + alpha/(npop*sigma) * np.dot(N.T, A)\n        \n        #Check current performance\n        w1_test = w [:NumWeights1].reshape(w1.shape)\n        w2_test = w [NumWeights1:NumWeights1+NumWeights2].reshape(w2.shape)\n        w3_test = w [NumWeights1+NumWeights2: NumWeights1 + NumWeights2 + NumWeights3].reshape(w3.shape)\n        b1_test = w [NumWeights1 + NumWeights2 + NumWeights3 : NumWeights1 + NumWeights2 + NumWeights3 + HL1].reshape((HL1,1))\n        b2_test = w [NumWeights1 + NumWeights2 + NumWeights3 + HL1:].reshape((HL2,1))\n        \n        out_test = predict(s,w1_test,w2_test,w3_test,b1_test,b2_test)\n        \n        print('At i =', i) \n        print('NMSE =',1/f(out_test))\n    return w",
      "execution_count": 6,
      "outputs": []
    },
    {
      "metadata": {
        "trusted": true
      },
      "cell_type": "code",
      "source": "start = timer() \nw = ES_DL()\nprint(\"Execution time:\", timer()-start) ",
      "execution_count": 7,
      "outputs": [
        {
          "output_type": "stream",
          "text": "/home/nbuser/anaconda2_501/lib/python2.7/site-packages/numba/dataflow.py:379: RuntimeWarning: Python2 style print partially supported.  Please use Python3 style print.\n  \"Python3 style print.\", RuntimeWarning)\n",
          "name": "stderr"
        },
        {
          "output_type": "stream",
          "text": "('At i =', 0)\n\n('NMSE =', 6.723838395675305)\n\n('At i =', 1)\n\n('NMSE =', 6.662387904944113)\n\n('At i =', 2)\n\n('NMSE =', 6.594545152755219)\n\n('At i =', 3)\n\n('NMSE =', 6.528466776242186)\n\n('At i =', 4)\n\n('NMSE =', 6.46816873627983)\n\n('At i =', 5)\n\n('NMSE =', 6.397782371325512)\n\n('At i =', 6)\n\n('NMSE =', 6.3318951985350775)\n\n('At i =', 7)\n\n('NMSE =', 6.265987390824007)\n\n('At i =', 8)\n\n('NMSE =', 6.199608645917765)\n\n('At i =', 9)\n\n('NMSE =', 6.137650547284819)\n\n('At i =', 10)\n\n('NMSE =', 6.079376136195273)\n\n('At i =', 11)\n\n('NMSE =', 6.01619755765749)\n\n('At i =', 12)\n\n('NMSE =', 5.953349138131918)\n\n('At i =', 13)\n\n('NMSE =', 5.88576041152035)\n\n('At i =', 14)\n\n('NMSE =', 5.8270953325208135)\n\n('At i =', 15)\n\n('NMSE =', 5.7640707381029435)\n\n('At i =', 16)\n\n('NMSE =', 5.704930164163159)\n\n('At i =', 17)\n\n('NMSE =', 5.6500696137639)\n\n('At i =', 18)\n\n('NMSE =', 5.595011620729443)\n\n('At i =', 19)\n\n('NMSE =', 5.5315127110984745)\n\n('At i =', 20)\n\n('NMSE =', 5.474770604365594)\n\n('At i =', 21)\n\n('NMSE =', 5.41554982174389)\n\n('At i =', 22)\n\n('NMSE =', 5.360553902227851)\n\n('At i =', 23)\n\n('NMSE =', 5.299599308774669)\n\n('At i =', 24)\n\n('NMSE =', 5.246361619571575)\n\n('At i =', 25)\n\n('NMSE =', 5.197124745122316)\n\n('At i =', 26)\n\n('NMSE =', 5.139868368325359)\n\n('At i =', 27)\n\n('NMSE =', 5.07598641520938)\n\n('At i =', 28)\n\n('NMSE =', 5.014497206125457)\n\n('At i =', 29)\n\n('NMSE =', 4.957159516717435)\n\n('At i =', 30)\n\n('NMSE =', 4.900393586041631)\n\n('At i =', 31)\n\n('NMSE =', 4.844997111289966)\n\n('At i =', 32)\n\n('NMSE =', 4.794772711166097)\n\n('At i =', 33)\n\n('NMSE =', 4.736092842099481)\n\n('At i =', 34)\n\n('NMSE =', 4.681712480051822)\n\n('At i =', 35)\n\n('NMSE =', 4.633500623824354)\n\n('At i =', 36)\n\n('NMSE =', 4.582461167210839)\n\n('At i =', 37)\n\n('NMSE =', 4.536270692610733)\n\n('At i =', 38)\n\n('NMSE =', 4.484654677559745)\n\n('At i =', 39)\n\n('NMSE =', 4.429100259679629)\n\n('At i =', 40)\n\n('NMSE =', 4.380440324402447)\n\n('At i =', 41)\n\n('NMSE =', 4.333377971605425)\n\n('At i =', 42)\n\n('NMSE =', 4.2873209918227575)\n\n('At i =', 43)\n\n('NMSE =', 4.243215960501889)\n\n('At i =', 44)\n\n('NMSE =', 4.197789608715863)\n\n('At i =', 45)\n\n('NMSE =', 4.147425455953911)\n\n('At i =', 46)\n\n('NMSE =', 4.097142979985399)\n\n('At i =', 47)\n\n('NMSE =', 4.049890403915567)\n\n('At i =', 48)\n\n('NMSE =', 4.005601090612215)\n\n('At i =', 49)\n\n('NMSE =', 3.9628007299677543)\n\n('At i =', 50)\n\n('NMSE =', 3.9162638096998945)\n\n('At i =', 51)\n\n('NMSE =', 3.8706485039340714)\n\n('At i =', 52)\n\n('NMSE =', 3.820784632539659)\n\n('At i =', 53)\n\n('NMSE =', 3.7754620542338233)\n\n('At i =', 54)\n\n('NMSE =', 3.7322063906129532)\n\n('At i =', 55)\n\n('NMSE =', 3.686862688711478)\n\n('At i =', 56)\n\n('NMSE =', 3.6396320418544454)\n\n('At i =', 57)\n\n('NMSE =', 3.5944033592188283)\n\n('At i =', 58)\n\n('NMSE =', 3.5464055559392786)\n\n('At i =', 59)\n\n('NMSE =', 3.5074727660366016)\n\n('At i =', 60)\n\n('NMSE =', 3.466577271224741)\n\n('At i =', 61)\n\n('NMSE =', 3.4259069030247837)\n\n('At i =', 62)\n\n('NMSE =', 3.386737670005847)\n\n('At i =', 63)\n\n('NMSE =', 3.3455822585548534)\n\n('At i =', 64)\n\n('NMSE =', 3.307343778656581)\n\n('At i =', 65)\n\n('NMSE =', 3.2730477412626113)\n\n('At i =', 66)\n\n('NMSE =', 3.2330724369121318)\n\n('At i =', 67)\n\n('NMSE =', 3.193581424711188)\n\n('At i =', 68)\n\n('NMSE =', 3.149080640148827)\n\n('At i =', 69)\n\n('NMSE =', 3.1083453315108818)\n\n('At i =', 70)\n\n('NMSE =', 3.0662633906174115)\n\n('At i =', 71)\n\n('NMSE =', 3.0268997065533547)\n\n('At i =', 72)\n\n('NMSE =', 2.9864650022158123)\n\n('At i =', 73)\n\n('NMSE =', 2.95141867771792)\n\n('At i =', 74)\n\n('NMSE =', 2.912211068294244)\n\n('At i =', 75)\n\n('NMSE =', 2.8783883424028067)\n\n('At i =', 76)\n\n('NMSE =', 2.842002909605135)\n\n('At i =', 77)\n\n('NMSE =', 2.8072258824697975)\n\n('At i =', 78)\n\n('NMSE =', 2.7756136322102836)\n\n('At i =', 79)\n\n('NMSE =', 2.7379236450275664)\n\n('At i =', 80)\n\n('NMSE =', 2.7075585129267945)\n\n('At i =', 81)\n\n('NMSE =', 2.6739348814714705)\n\n('At i =', 82)\n\n('NMSE =', 2.6399365534505885)\n\n('At i =', 83)\n\n('NMSE =', 2.605041412347658)\n\n('At i =', 84)\n\n('NMSE =', 2.5675111571479783)\n\n('At i =', 85)\n\n('NMSE =', 2.532808478782215)\n\n('At i =', 86)\n\n('NMSE =', 2.50265164463851)\n\n('At i =', 87)\n\n('NMSE =', 2.471884159000477)\n\n('At i =', 88)\n\n('NMSE =', 2.4404840390982)\n\n('At i =', 89)\n\n('NMSE =', 2.406545071850584)\n\n('At i =', 90)\n\n('NMSE =', 2.373782453045744)\n\n('At i =', 91)\n\n('NMSE =', 2.340992777832797)\n\n('At i =', 92)\n\n('NMSE =', 2.3111730720021266)\n\n('At i =', 93)\n\n('NMSE =', 2.2777185341012136)\n\n('At i =', 94)\n\n('NMSE =', 2.249118579768421)\n\n('At i =', 95)\n\n('NMSE =', 2.2178434179435675)\n\n('At i =', 96)\n\n('NMSE =', 2.184774803436317)\n\n('At i =', 97)\n\n('NMSE =', 2.152832334618607)\n\n('At i =', 98)\n\n('NMSE =', 2.124571034933416)\n\n('At i =', 99)\n\n('NMSE =', 2.0931817704781266)\n\n('At i =', 100)\n\n('NMSE =', 2.064956988064134)\n\n('At i =', 101)\n\n('NMSE =', 2.0350385394151647)\n\n('At i =', 102)\n\n('NMSE =', 2.004318326867571)\n\n('At i =', 103)\n\n('NMSE =', 1.9730163254300994)\n\n('At i =', 104)\n\n('NMSE =', 1.9444624905054526)\n\n('At i =', 105)\n\n('NMSE =', 1.91846309535788)\n\n('At i =', 106)\n\n('NMSE =', 1.8949104362499438)\n\n('At i =', 107)\n\n('NMSE =', 1.8663110122358997)\n\n('At i =', 108)\n\n('NMSE =', 1.8364445890730519)\n\n('At i =', 109)\n\n('NMSE =', 1.8106396759052243)\n\n('At i =', 110)\n\n('NMSE =', 1.7838842460444242)\n\n('At i =', 111)\n\n('NMSE =', 1.7586907195559687)\n\n('At i =', 112)\n\n('NMSE =', 1.7323543863417739)\n\n('At i =', 113)\n\n('NMSE =', 1.7057374664261202)\n\n('At i =', 114)\n\n('NMSE =', 1.6820055984662237)\n\n('At i =', 115)\n\n('NMSE =', 1.656503977099976)\n\n('At i =', 116)\n\n('NMSE =', 1.6300965401604122)\n\n('At i =', 117)\n\n('NMSE =', 1.6045046766607542)\n\n('At i =', 118)\n\n('NMSE =', 1.5798348254871273)\n\n('At i =', 119)\n\n('NMSE =', 1.5585282895963821)\n\n('At i =', 120)\n\n('NMSE =', 1.5312209788609812)\n\n('At i =', 121)\n\n('NMSE =', 1.5076186637241207)\n\n('At i =', 122)\n\n('NMSE =', 1.4821003527104424)\n\n('At i =', 123)\n\n('NMSE =', 1.4595617974215378)\n\n('At i =', 124)\n\n('NMSE =', 1.4353925350460561)\n\n('At i =', 125)\n\n('NMSE =', 1.4132479283865433)\n\n('At i =', 126)\n\n('NMSE =', 1.3931820627959113)\n\n('At i =', 127)\n\n('NMSE =', 1.3695972821755753)\n\n('At i =', 128)\n\n('NMSE =', 1.345822041436791)\n\n('At i =', 129)\n\n('NMSE =', 1.323146560028999)\n\n('At i =', 130)\n\n('NMSE =', 1.3018095272076946)\n\n('At i =', 131)\n\n('NMSE =', 1.2828212044377378)\n\n('At i =', 132)\n\n('NMSE =', 1.2600531705689422)\n\n('At i =', 133)\n\n('NMSE =', 1.2367257878561453)\n\n('At i =', 134)\n\n('NMSE =', 1.21403211557089)\n\n('At i =', 135)\n\n('NMSE =', 1.1914676901623789)\n\n('At i =', 136)\n\n('NMSE =', 1.1703258836462571)\n\n('At i =', 137)\n\n('NMSE =', 1.1502333841275074)\n\n('At i =', 138)\n\n('NMSE =', 1.127017145180793)\n\n('At i =', 139)\n\n('NMSE =', 1.1085017722626487)\n\n('At i =', 140)\n\n('NMSE =', 1.0903067904351857)\n\n('At i =', 141)\n\n('NMSE =', 1.0718331074498566)\n\n('At i =', 142)\n\n('NMSE =', 1.052671779229556)\n\n('At i =', 143)\n\n('NMSE =', 1.0319584336198961)\n\n('At i =', 144)\n\n('NMSE =', 1.0146788699408456)\n\n('At i =', 145)\n\n('NMSE =', 0.9979031565390254)\n\n('At i =', 146)\n\n('NMSE =', 0.9796468251571238)\n\n('At i =', 147)\n\n('NMSE =', 0.9606136599932499)\n\n('At i =', 148)\n\n('NMSE =', 0.9426313126963208)\n\n('At i =', 149)\n\n('NMSE =', 0.9257431443379951)\n\n('At i =', 150)\n\n('NMSE =', 0.9056747765913916)\n\n('At i =', 151)\n\n('NMSE =', 0.8881020268914361)\n\n('At i =', 152)\n\n('NMSE =', 0.8678792804407034)\n\n('At i =', 153)\n\n('NMSE =', 0.849611105876811)\n\n('At i =', 154)\n\n('NMSE =', 0.8330289812373212)\n\n('At i =', 155)\n\n('NMSE =', 0.8149737075339948)\n\n('At i =', 156)\n\n('NMSE =', 0.7975330189892729)\n\n('At i =', 157)\n\n('NMSE =', 0.7823820257312033)\n\n('At i =', 158)\n\n('NMSE =', 0.7658810936668917)\n\n('At i =', 159)\n\n('NMSE =', 0.7484753672534052)\n\n('At i =', 160)\n\n('NMSE =', 0.7292513081977953)\n\n('At i =', 161)\n\n('NMSE =', 0.7149505459932419)\n\n('At i =', 162)\n\n('NMSE =', 0.6978111305430744)\n\n('At i =', 163)\n\n('NMSE =', 0.682194987896325)\n\n('At i =', 164)\n\n('NMSE =', 0.666859506362087)\n\n('At i =', 165)\n\n('NMSE =', 0.6514508938835589)\n\n('At i =', 166)\n\n('NMSE =', 0.6360173872166759)\n\n('At i =', 167)\n\n('NMSE =', 0.6189683372522714)\n\n('At i =', 168)\n\n('NMSE =', 0.6037780622019406)\n\n('At i =', 169)\n\n('NMSE =', 0.5896901835024909)\n\n('At i =', 170)\n\n('NMSE =', 0.5760553154761939)\n\n('At i =', 171)\n\n('NMSE =', 0.563221742916316)\n\n",
          "name": "stdout"
        },
        {
          "output_type": "stream",
          "text": "('At i =', 172)\n\n('NMSE =', 0.5508316009360805)\n\n('At i =', 173)\n\n('NMSE =', 0.5370689279991727)\n\n('At i =', 174)\n\n('NMSE =', 0.524016168968783)\n\n('At i =', 175)\n\n('NMSE =', 0.5113162713871771)\n\n('At i =', 176)\n\n('NMSE =', 0.4988325509248608)\n\n('At i =', 177)\n\n('NMSE =', 0.4870038971095926)\n\n('At i =', 178)\n\n('NMSE =', 0.47491664439686404)\n\n('At i =', 179)\n\n('NMSE =', 0.4621785454649419)\n\n('At i =', 180)\n\n('NMSE =', 0.4510663447528036)\n\n('At i =', 181)\n\n('NMSE =', 0.4384533815307264)\n\n('At i =', 182)\n\n('NMSE =', 0.42537633545273906)\n\n('At i =', 183)\n\n('NMSE =', 0.4127881518630182)\n\n('At i =', 184)\n\n('NMSE =', 0.4004263762699472)\n\n('At i =', 185)\n\n('NMSE =', 0.3888166755046046)\n\n('At i =', 186)\n\n('NMSE =', 0.37664484211217725)\n\n('At i =', 187)\n\n('NMSE =', 0.36580853463887314)\n\n('At i =', 188)\n\n('NMSE =', 0.35507831725307826)\n\n('At i =', 189)\n\n('NMSE =', 0.3449510781437781)\n\n('At i =', 190)\n\n('NMSE =', 0.3339165439756779)\n\n('At i =', 191)\n\n('NMSE =', 0.32351546507115364)\n\n('At i =', 192)\n\n('NMSE =', 0.31292982147277454)\n\n('At i =', 193)\n\n('NMSE =', 0.30277569959335815)\n\n('At i =', 194)\n\n('NMSE =', 0.2923926182245509)\n\n('At i =', 195)\n\n('NMSE =', 0.2828951371837063)\n\n('At i =', 196)\n\n('NMSE =', 0.272207176653801)\n\n('At i =', 197)\n\n('NMSE =', 0.262973352290034)\n\n('At i =', 198)\n\n('NMSE =', 0.2539782493137953)\n\n('At i =', 199)\n\n('NMSE =', 0.2469283113834801)\n\n('At i =', 200)\n\n('NMSE =', 0.23893618623421162)\n\n('At i =', 201)\n\n('NMSE =', 0.22969562781333375)\n\n('At i =', 202)\n\n('NMSE =', 0.2208833851891801)\n\n('At i =', 203)\n\n('NMSE =', 0.2131561127097368)\n\n",
          "name": "stdout"
        },
        {
          "output_type": "error",
          "ename": "KeyboardInterrupt",
          "evalue": "",
          "traceback": [
            "\u001b[0;31m\u001b[0m",
            "\u001b[0;31mKeyboardInterrupt\u001b[0mTraceback (most recent call last)",
            "\u001b[0;32m<ipython-input-7-5bbc4b95673b>\u001b[0m in \u001b[0;36m<module>\u001b[0;34m()\u001b[0m\n\u001b[1;32m      1\u001b[0m \u001b[0mstart\u001b[0m \u001b[0;34m=\u001b[0m \u001b[0mtimer\u001b[0m\u001b[0;34m(\u001b[0m\u001b[0;34m)\u001b[0m\u001b[0;34m\u001b[0m\u001b[0m\n\u001b[0;32m----> 2\u001b[0;31m \u001b[0mw\u001b[0m \u001b[0;34m=\u001b[0m \u001b[0mES_DL\u001b[0m\u001b[0;34m(\u001b[0m\u001b[0;34m)\u001b[0m\u001b[0;34m\u001b[0m\u001b[0m\n\u001b[0m\u001b[1;32m      3\u001b[0m \u001b[0;32mprint\u001b[0m\u001b[0;34m(\u001b[0m\u001b[0;34m\"Execution time:\"\u001b[0m\u001b[0;34m,\u001b[0m \u001b[0mtimer\u001b[0m\u001b[0;34m(\u001b[0m\u001b[0;34m)\u001b[0m\u001b[0;34m-\u001b[0m\u001b[0mstart\u001b[0m\u001b[0;34m)\u001b[0m\u001b[0;34m\u001b[0m\u001b[0m\n",
            "\u001b[0;32m/home/nbuser/anaconda2_501/lib/python2.7/site-packages/numpy/core/fromnumeric.pyc\u001b[0m in \u001b[0;36mmean\u001b[0;34m(a, axis, dtype, out, keepdims)\u001b[0m\n\u001b[1;32m   3012\u001b[0m \u001b[0;34m\u001b[0m\u001b[0m\n\u001b[1;32m   3013\u001b[0m \u001b[0;34m\u001b[0m\u001b[0m\n\u001b[0;32m-> 3014\u001b[0;31m \u001b[0;34m@\u001b[0m\u001b[0marray_function_dispatch\u001b[0m\u001b[0;34m(\u001b[0m\u001b[0m_mean_dispatcher\u001b[0m\u001b[0;34m)\u001b[0m\u001b[0;34m\u001b[0m\u001b[0m\n\u001b[0m\u001b[1;32m   3015\u001b[0m \u001b[0;32mdef\u001b[0m \u001b[0mmean\u001b[0m\u001b[0;34m(\u001b[0m\u001b[0ma\u001b[0m\u001b[0;34m,\u001b[0m \u001b[0maxis\u001b[0m\u001b[0;34m=\u001b[0m\u001b[0mNone\u001b[0m\u001b[0;34m,\u001b[0m \u001b[0mdtype\u001b[0m\u001b[0;34m=\u001b[0m\u001b[0mNone\u001b[0m\u001b[0;34m,\u001b[0m \u001b[0mout\u001b[0m\u001b[0;34m=\u001b[0m\u001b[0mNone\u001b[0m\u001b[0;34m,\u001b[0m \u001b[0mkeepdims\u001b[0m\u001b[0;34m=\u001b[0m\u001b[0mnp\u001b[0m\u001b[0;34m.\u001b[0m\u001b[0m_NoValue\u001b[0m\u001b[0;34m)\u001b[0m\u001b[0;34m:\u001b[0m\u001b[0;34m\u001b[0m\u001b[0m\n\u001b[1;32m   3016\u001b[0m     \"\"\"\n",
            "\u001b[0;31mKeyboardInterrupt\u001b[0m: "
          ]
        }
      ]
    }
  ],
  "metadata": {
    "kernelspec": {
      "name": "python2",
      "display_name": "Python 2",
      "language": "python"
    },
    "language_info": {
      "mimetype": "text/x-python",
      "nbconvert_exporter": "python",
      "name": "python",
      "pygments_lexer": "ipython2",
      "version": "2.7.15",
      "file_extension": ".py",
      "codemirror_mode": {
        "version": 2,
        "name": "ipython"
      }
    }
  },
  "nbformat": 4,
  "nbformat_minor": 2
}
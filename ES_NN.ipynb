{
  "cells": [
    {
      "metadata": {
        "trusted": true
      },
      "cell_type": "code",
      "source": "import numpy as np\nfrom numba import jit\nfrom timeit import default_timer as timer",
      "execution_count": null,
      "outputs": []
    },
    {
      "metadata": {
        "trusted": true
      },
      "cell_type": "code",
      "source": "IL = 1 #input layer nodes\nHL1 = 10 #hidden layer nodes\nHL2 = 10 #hidden layer nodes\nOL = 1 #output layer nodes\nw1 = np.random.randn(HL1,IL) #weight matrix W1\nb1 = np.random.randn(HL1) #bias b1\nw2 = np.random.randn(HL2,HL1) #weight matrix W2\nb2 = np.random.randn(HL2) #bias b2\nw3 = np.random.randn(OL,HL2)  #weight matrix W3\n\n#Number of elements in weight matrices\nNumWeights1 = len(w1.flatten())\nNumWeights2 = len(w2.flatten())\nNumWeights3 = len(w3.flatten())",
      "execution_count": null,
      "outputs": []
    },
    {
      "metadata": {
        "trusted": true
      },
      "cell_type": "code",
      "source": "s = np.random.randn(IL,10000) #input data \nx = 2*s**2 + 5 #output data",
      "execution_count": null,
      "outputs": []
    },
    {
      "metadata": {
        "trusted": true
      },
      "cell_type": "code",
      "source": "#forward propagation\n@jit\ndef predict(s,w1,w2,w3,b1,b2):\n    h1 = np.dot(w1, s) + b1 #input to hidden layer 1        \n    h1 = np.where(h1 < 0, h1, 0) #relu                      \n    h2 = np.dot(w2, h1) + b2 #input to hidden layer 2          \n    h2 = np.where(h2 < 0, h2, 0) #relu          \n    out = np.dot(w3, h2) #hidden layer to output\n    #out = 1.0 / (1.0 + np.exp(-out)) #sigmoid if needed\n    return out",
      "execution_count": null,
      "outputs": []
    },
    {
      "metadata": {
        "trusted": true
      },
      "cell_type": "code",
      "source": "#reward function\n@jit\ndef f(out): return np.linalg.norm(x)**2/np.linalg.norm(out-x)**2",
      "execution_count": null,
      "outputs": []
    },
    {
      "metadata": {
        "trusted": true
      },
      "cell_type": "code",
      "source": "npop = 100    # population size\nsigma = 0.01    # noise standard deviation\nalpha = 0.0001  # learning rate\n\n\n@jit\ndef ES_DL():\n    w = np.random.randn(NumWeights1 + NumWeights2 + NumWeights3 + HL1 + HL2)\n    for i in range(5000):\n        N = np.random.randn(npop, NumWeights1 + NumWeights2 + NumWeights3 + HL1 + HL2) #initiate population\n        R = np.zeros(npop) #reward\n        for j in range(npop):\n            w_trial = w + sigma*N[j]\n            \n            #Reshape weight and biases\n            w1_trial = w_trial [:NumWeights1].reshape(w1.shape)\n            w2_trial = w_trial [NumWeights1:NumWeights1+NumWeights2].reshape(w2.shape)\n            w3_trial = w_trial [NumWeights1+NumWeights2: NumWeights1 + NumWeights2 + NumWeights3].reshape(w3.shape)\n            b1_trial = w_trial [NumWeights1 + NumWeights2 + NumWeights3 : NumWeights1 + NumWeights2 + NumWeights3 + HL1].reshape((HL1,1))\n            b2_trial = w_trial [NumWeights1 + NumWeights2 + NumWeights3 + HL1:].reshape((HL2,1))\n            \n            #Compute output\n            out = predict(s,w1_trial,w2_trial,w3_trial,b1_trial,b2_trial)\n            \n            #Observe reward score\n            R[j] = f(out)\n        \n        #Reward Standardization\n        A = (R - np.mean(R)) / np.std(R)\n        \n        #Update\n        w = w + alpha/(npop*sigma) * np.dot(N.T, A)\n        \n        #Check current performance\n        w1_test = w [:NumWeights1].reshape(w1.shape)\n        w2_test = w [NumWeights1:NumWeights1+NumWeights2].reshape(w2.shape)\n        w3_test = w [NumWeights1+NumWeights2: NumWeights1 + NumWeights2 + NumWeights3].reshape(w3.shape)\n        b1_test = w [NumWeights1 + NumWeights2 + NumWeights3 : NumWeights1 + NumWeights2 + NumWeights3 + HL1].reshape((HL1,1))\n        b2_test = w [NumWeights1 + NumWeights2 + NumWeights3 + HL1:].reshape((HL2,1))\n        \n        out_test = predict(s,w1_test,w2_test,w3_test,b1_test,b2_test)\n        \n        print('At i =', i) \n        print('NMSE =',1/f(out_test))\n    return w",
      "execution_count": null,
      "outputs": []
    },
    {
      "metadata": {
        "trusted": true
      },
      "cell_type": "code",
      "source": "start = timer() \nw = ES_DL()\nprint(\"Execution time:\", timer()-start) ",
      "execution_count": null,
      "outputs": []
    }
  ],
  "metadata": {
    "kernelspec": {
      "name": "python2",
      "display_name": "Python 2",
      "language": "python"
    },
    "language_info": {
      "mimetype": "text/x-python",
      "nbconvert_exporter": "python",
      "name": "python",
      "pygments_lexer": "ipython2",
      "version": "2.7.15",
      "file_extension": ".py",
      "codemirror_mode": {
        "version": 2,
        "name": "ipython"
      }
    }
  },
  "nbformat": 4,
  "nbformat_minor": 2
}